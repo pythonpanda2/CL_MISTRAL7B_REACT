{
 "cells": [
  {
   "cell_type": "code",
   "execution_count": 42,
   "metadata": {},
   "outputs": [
    {
     "data": {
      "text/plain": [
       "True"
      ]
     },
     "execution_count": 42,
     "metadata": {},
     "output_type": "execute_result"
    }
   ],
   "source": [
    "import sentencepiece as spm\n",
    "\n",
    "# Load the Mistral-7B SentencePiece tokenizer model\n",
    "sp = spm.SentencePieceProcessor()\n",
    "sp.load('../model_files/mistral-7B-v0.1/tokenizer.model')"
   ]
  },
  {
   "cell_type": "code",
   "execution_count": 43,
   "metadata": {},
   "outputs": [
    {
     "name": "stdout",
     "output_type": "stream",
     "text": [
      "['▁C', 'CO']\n"
     ]
    }
   ],
   "source": [
    "# Tokenize a SMILES string\n",
    "tokenized_smiles = sp.encode(\"CCO\", out_type=str)\n",
    "print(tokenized_smiles)"
   ]
  },
  {
   "cell_type": "code",
   "execution_count": 48,
   "metadata": {},
   "outputs": [],
   "source": [
    "smiles_examples = [\n",
    "    \"CCO\",       # Ethanol\n",
    "    \"C1=CC=CC=C1\", # Benzene\n",
    "    \"CC(=O)O\",   # Acetic acid\n",
    "    \"C(C(=O)O)N\", # Glycine,\n",
    "    \"C#N\" #hydrogen cyanide\n",
    "]"
   ]
  },
  {
   "cell_type": "code",
   "execution_count": 49,
   "metadata": {},
   "outputs": [
    {
     "name": "stdout",
     "output_type": "stream",
     "text": [
      "\n",
      "Original SMILES: CCO\n",
      "\n",
      "Tokenized SMILES: ['▁C', 'CO']\n",
      "\n",
      "Decoded SMILES: CCO\n",
      "\n",
      "Original SMILES: C1=CC=CC=C1\n",
      "\n",
      "Tokenized SMILES: ['▁C', '1', '=', 'CC', '=', 'CC', '=', 'C', '1']\n",
      "\n",
      "Decoded SMILES: C1=CC=CC=C1\n",
      "\n",
      "Original SMILES: CC(=O)O\n",
      "\n",
      "Tokenized SMILES: ['▁CC', '(', '=', 'O', ')', 'O']\n",
      "\n",
      "Decoded SMILES: CC(=O)O\n",
      "\n",
      "Original SMILES: C(C(=O)O)N\n",
      "\n",
      "Tokenized SMILES: ['▁C', '(', 'C', '(', '=', 'O', ')', 'O', ')', 'N']\n",
      "\n",
      "Decoded SMILES: C(C(=O)O)N\n",
      "\n",
      "Original SMILES: C#N\n",
      "\n",
      "Tokenized SMILES: ['▁C', '#', 'N']\n",
      "\n",
      "Decoded SMILES: C#N\n"
     ]
    }
   ],
   "source": [
    "# Tokenize the SMILES string\n",
    "for smiles_example in smiles_examples:\n",
    "    tokenized_smiles = sp.encode(smiles_example, out_type=str)\n",
    "    print(\"\\nOriginal SMILES:\", smiles_example)\n",
    "    print(\"\\nTokenized SMILES:\", tokenized_smiles)\n",
    "\n",
    "    # Decode the tokens back to SMILES\n",
    "    decoded_smiles = sp.decode(tokenized_smiles)\n",
    "    print(\"\\nDecoded SMILES:\", decoded_smiles)"
   ]
  },
  {
   "cell_type": "code",
   "execution_count": 52,
   "metadata": {},
   "outputs": [],
   "source": [
    "complex_examples = [\n",
    "    \"[12C]\", #elemental carbon-13\n",
    "    \"[13C]\", #elemental carbon-13\n",
    "    \"[OH3+]\", #Hydronium\n",
    "    \"[Fe+3]\", #Ferric\n",
    "    \"[Na+].[Cl-]\", #Sodium Chloride\n",
    "    \"F/C=C/F\", #trans-difluoroethene\n",
    "    \"F/C=C\\F\", #cis-difluoroethene\n",
    "    \"C1C[C@H]2CCCC[C@H]2CC1\", #cis-decalin\n",
    "]"
   ]
  },
  {
   "cell_type": "code",
   "execution_count": 53,
   "metadata": {},
   "outputs": [
    {
     "name": "stdout",
     "output_type": "stream",
     "text": [
      "\n",
      "Original SMILES: [12C]\n",
      "\n",
      "Tokenized SMILES: ['▁[', '1', '2', 'C', ']']\n",
      "\n",
      "Decoded SMILES: [12C]\n",
      "\n",
      "Original SMILES: [13C]\n",
      "\n",
      "Tokenized SMILES: ['▁[', '1', '3', 'C', ']']\n",
      "\n",
      "Decoded SMILES: [13C]\n",
      "\n",
      "Original SMILES: [OH3+]\n",
      "\n",
      "Tokenized SMILES: ['▁[', 'O', 'H', '3', '+', ']']\n",
      "\n",
      "Decoded SMILES: [OH3+]\n",
      "\n",
      "Original SMILES: [Fe+3]\n",
      "\n",
      "Tokenized SMILES: ['▁[', 'Fe', '+', '3', ']']\n",
      "\n",
      "Decoded SMILES: [Fe+3]\n",
      "\n",
      "Original SMILES: [Na+].[Cl-]\n",
      "\n",
      "Tokenized SMILES: ['▁[', 'Na', '+', '].', '[', 'Cl', '-', ']']\n",
      "\n",
      "Decoded SMILES: [Na+].[Cl-]\n",
      "\n",
      "Original SMILES: F/C=C/F\n",
      "\n",
      "Tokenized SMILES: ['▁F', '/', 'C', '=', 'C', '/', 'F']\n",
      "\n",
      "Decoded SMILES: F/C=C/F\n",
      "\n",
      "Original SMILES: F/C=C\\F\n",
      "\n",
      "Tokenized SMILES: ['▁F', '/', 'C', '=', 'C', '\\\\', 'F']\n",
      "\n",
      "Decoded SMILES: F/C=C\\F\n",
      "\n",
      "Original SMILES: C1C[C@H]2CCCC[C@H]2CC1\n",
      "\n",
      "Tokenized SMILES: ['▁C', '1', 'C', '[', 'C', '@', 'H', ']', '2', 'CC', 'CC', '[', 'C', '@', 'H', ']', '2', 'CC', '1']\n",
      "\n",
      "Decoded SMILES: C1C[C@H]2CCCC[C@H]2CC1\n"
     ]
    }
   ],
   "source": [
    "# Tokenize the SMILES string\n",
    "for smiles_example in complex_examples:\n",
    "    tokenized_smiles = sp.encode(smiles_example, out_type=str)\n",
    "    print(\"\\nOriginal SMILES:\", smiles_example)\n",
    "    print(\"\\nTokenized SMILES:\", tokenized_smiles)\n",
    "\n",
    "    # Decode the tokens back to SMILES\n",
    "    decoded_smiles = sp.decode(tokenized_smiles)\n",
    "    print(\"\\nDecoded SMILES:\", decoded_smiles)"
   ]
  }
 ],
 "metadata": {
  "kernelspec": {
   "display_name": "mistral_cl",
   "language": "python",
   "name": "python3"
  },
  "language_info": {
   "codemirror_mode": {
    "name": "ipython",
    "version": 3
   },
   "file_extension": ".py",
   "mimetype": "text/x-python",
   "name": "python",
   "nbconvert_exporter": "python",
   "pygments_lexer": "ipython3",
   "version": "3.10.14"
  }
 },
 "nbformat": 4,
 "nbformat_minor": 2
}
