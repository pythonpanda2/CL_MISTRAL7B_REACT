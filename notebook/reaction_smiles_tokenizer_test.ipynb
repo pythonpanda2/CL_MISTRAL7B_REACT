{
 "cells": [
  {
   "cell_type": "code",
   "execution_count": 1,
   "metadata": {},
   "outputs": [],
   "source": [
    "import pandas as pd \n",
    "from rdkit import Chem\n",
    "# data\n",
    "# data\n",
    "df = pd.read_excel('../data/Suzuki-Miyaura/aap9112_Data_File_S1.xlsx')\n",
    "df = df.fillna('None')    \n",
    "\n",
    "reactant_1_smiles = {\n",
    "    '6-chloroquinoline': 'C1=C(Cl)C=CC2=NC=CC=C12.CCC1=CC(=CC=C1)CC', \n",
    "    '6-Bromoquinoline': 'C1=C(Br)C=CC2=NC=CC=C12.CCC1=CC(=CC=C1)CC', \n",
    "    '6-triflatequinoline': 'C1C2C(=NC=CC=2)C=CC=1OS(C(F)(F)F)(=O)=O.CCC1=CC(=CC=C1)CC',\n",
    "    '6-Iodoquinoline': 'C1=C(I)C=CC2=NC=CC=C12.CCC1=CC(=CC=C1)CC', \n",
    "    '6-quinoline-boronic acid hydrochloride': 'C1C(B(O)O)=CC=C2N=CC=CC=12.Cl.O',\n",
    "    'Potassium quinoline-6-trifluoroborate': '[B-](C1=CC2=C(C=C1)N=CC=C2)(F)(F)F.[K+].O',\n",
    "    '6-Quinolineboronic acid pinacol ester': 'B1(OC(C(O1)(C)C)(C)C)C2=CC3=C(C=C2)N=CC=C3.O'\n",
    "}\n",
    "\n",
    "reactant_2_smiles = {\n",
    "    '2a, Boronic Acid': 'CC1=CC=C2C(C=NN2C3OCCCC3)=C1B(O)O', \n",
    "    '2b, Boronic Ester': 'CC1=CC=C2C(C=NN2C3OCCCC3)=C1B4OC(C)(C)C(C)(C)O4', \n",
    "    '2c, Trifluoroborate': 'CC1=CC=C2C(C=NN2C3OCCCC3)=C1[B-](F)(F)F.[K+]',\n",
    "    '2d, Bromide': 'CC1=CC=C2C(C=NN2C3OCCCC3)=C1Br' \n",
    "}\n",
    "\n",
    "catalyst_smiles = {\n",
    "    'Pd(OAc)2': 'CC(=O)O~CC(=O)O~[Pd]'\n",
    "}\n",
    "\n",
    "ligand_smiles = {\n",
    "    'P(tBu)3': 'CC(C)(C)P(C(C)(C)C)C(C)(C)C', \n",
    "    'P(Ph)3 ': 'c3c(P(c1ccccc1)c2ccccc2)cccc3', \n",
    "    'AmPhos': 'CC(C)(C)P(C1=CC=C(C=C1)N(C)C)C(C)(C)C', \n",
    "    'P(Cy)3': 'C1(CCCCC1)P(C2CCCCC2)C3CCCCC3', \n",
    "    'P(o-Tol)3': 'CC1=CC=CC=C1P(C2=CC=CC=C2C)C3=CC=CC=C3C',\n",
    "    'CataCXium A': 'CCCCP(C12CC3CC(C1)CC(C3)C2)C45CC6CC(C4)CC(C6)C5', \n",
    "    'SPhos': 'COc1cccc(c1c2ccccc2P(C3CCCCC3)C4CCCCC4)OC', \n",
    "    'dtbpf': 'CC(C)(C)P(C1=CC=C[CH]1)C(C)(C)C.CC(C)(C)P(C1=CC=C[CH]1)C(C)(C)C.[Fe]', \n",
    "    'XPhos': 'P(c2ccccc2c1c(cc(cc1C(C)C)C(C)C)C(C)C)(C3CCCCC3)C4CCCCC4', \n",
    "    'dppf': 'C1=CC=C(C=C1)P([C-]2C=CC=C2)C3=CC=CC=C3.C1=CC=C(C=C1)P([C-]2C=CC=C2)C3=CC=CC=C3.[Fe+2]', \n",
    "    'Xantphos': 'O6c1c(cccc1P(c2ccccc2)c3ccccc3)C(c7cccc(P(c4ccccc4)c5ccccc5)c67)(C)C',\n",
    "    'None': ''\n",
    "}\n",
    "\n",
    "reagent_1_smiles = {\n",
    "    'NaOH': '[OH-].[Na+]', \n",
    "    'NaHCO3': '[Na+].OC([O-])=O', \n",
    "    'CsF': '[F-].[Cs+]', \n",
    "    'K3PO4': '[K+].[K+].[K+].[O-]P([O-])([O-])=O', \n",
    "    'KOH': '[K+].[OH-]', \n",
    "    'LiOtBu': '[Li+].[O-]C(C)(C)C', \n",
    "    'Et3N': 'CCN(CC)CC', \n",
    "    'None': ''\n",
    "}\n",
    "\n",
    "solvent_1_smiles = {\n",
    "    'MeCN': 'CC#N.O', \n",
    "    'THF': 'C1CCOC1.O', \n",
    "    'DMF': 'CN(C)C=O.O', \n",
    "    'MeOH': 'CO.O', \n",
    "    'MeOH/H2O_V2 9:1': 'CO.O', \n",
    "    'THF_V2': 'C1CCOC1.O'\n",
    "}\n",
    "\n",
    "def make_reaction_smiles(row):\n",
    "    precursors = f\" {reactant_1_smiles[row['Reactant_1_Name']]}.{reactant_2_smiles[row['Reactant_2_Name']]}.{catalyst_smiles[row['Catalyst_1_Short_Hand']]}.{ligand_smiles[row['Ligand_Short_Hand']]}.{reagent_1_smiles[row['Reagent_1_Short_Hand']]}.{solvent_1_smiles[row['Solvent_1_Short_Hand']]} \"\n",
    "    product = 'C1=C(C2=C(C)C=CC3N(C4OCCCC4)N=CC2=3)C=CC2=NC=CC=C12'\n",
    "#     print(precursors, product)\n",
    "    can_precursors = Chem.MolToSmiles(Chem.MolFromSmiles(precursors.replace('...', '.').replace('..', '.').replace(' .', '').replace('. ', '').replace(' ', '')))\n",
    "    can_product = Chem.MolToSmiles(Chem.MolFromSmiles(product))\n",
    "    \n",
    "    return f\"{can_precursors}>>{can_product}\"\n",
    "     "
   ]
  },
  {
   "cell_type": "code",
   "execution_count": 2,
   "metadata": {},
   "outputs": [],
   "source": [
    "# data\n",
    "df['rxn']= [make_reaction_smiles(row) for i, row in df.iterrows()]\n",
    "df['y'] = df['Product_Yield_PCT_Area_UV']/ 100.\n",
    "reactions_df = df[['rxn', 'y']]"
   ]
  },
  {
   "cell_type": "code",
   "execution_count": 3,
   "metadata": {},
   "outputs": [
    {
     "data": {
      "text/plain": [
       "<bound method NDFrame.describe of 0       CC#N.CC(=O)O~CC(=O)O~[Pd].CC(C)(C)P(C(C)(C)C)C...\n",
       "1       CC#N.CC(=O)O~CC(=O)O~[Pd].CCc1cccc(CC)c1.Cc1cc...\n",
       "2       CC#N.CC(=O)O~CC(=O)O~[Pd].CCc1cccc(CC)c1.CN(C)...\n",
       "3       C1CCC(P(C2CCCCC2)C2CCCCC2)CC1.CC#N.CC(=O)O~CC(...\n",
       "4       CC#N.CC(=O)O~CC(=O)O~[Pd].CCc1cccc(CC)c1.Cc1cc...\n",
       "                              ...                        \n",
       "5755    CC(=O)O~CC(=O)O~[Pd].CC(C)(C)P(C1=CC=C[CH]1)C(...\n",
       "5756    CC(=O)O~CC(=O)O~[Pd].CC(C)c1cc(C(C)C)c(-c2cccc...\n",
       "5757    CC(=O)O~CC(=O)O~[Pd].CC1(C)OB(c2ccc3ncccc3c2)O...\n",
       "5758    CC(=O)O~CC(=O)O~[Pd].CC1(C)OB(c2ccc3ncccc3c2)O...\n",
       "5759    CC(=O)O~CC(=O)O~[Pd].CC1(C)OB(c2ccc3ncccc3c2)O...\n",
       "Name: rxn, Length: 5760, dtype: object>"
      ]
     },
     "execution_count": 3,
     "metadata": {},
     "output_type": "execute_result"
    }
   ],
   "source": [
    "reactions_df['rxn'].describe"
   ]
  },
  {
   "cell_type": "markdown",
   "metadata": {},
   "source": [
    "### Test Encoding/ Decoding efficiency of Mistral-7B provided tokenizer!"
   ]
  },
  {
   "cell_type": "code",
   "execution_count": 4,
   "metadata": {},
   "outputs": [],
   "source": [
    "from sentencepiece import SentencePieceProcessor\n",
    "from tokenizer import MistralTokenizer\n",
    "# Load the Mistral-7B SentencePiece tokenizer model\n",
    "#sp = SentencePieceProcessor()\n",
    "#sp.load('../model_files/mistral-7B-v0.1/tokenizer.model')\n",
    "\n",
    "sp = MistralTokenizer(\"../model_files/mistral-7B-v0.1/tokenizer.model\")"
   ]
  },
  {
   "cell_type": "code",
   "execution_count": 5,
   "metadata": {},
   "outputs": [
    {
     "name": "stdout",
     "output_type": "stream",
     "text": [
      "5760\n",
      "\n",
      "Original SMILES: CC#N.CC(=O)O~CC(=O)O~[Pd].CC(C)(C)P(C(C)(C)C)C(C)(C)C.CCc1cccc(CC)c1.Cc1ccc2c(cnn2C2CCCCO2)c1B(O)O.Clc1ccc2ncccc2c1.O.[Na+].[OH-]>>Cc1ccc2c(cnn2C2CCCCO2)c1-c1ccc2ncccc2c1\n",
      "[1, 16900, 28771, 28759, 28723, 4020, 28732, 28746, 28762, 28731, 28762, 28845, 4020, 28732, 28746, 28762, 28731, 28762, 28845, 28792, 28753, 28715, 1592, 4020, 28732, 28743, 3847, 28743, 28731, 28753, 28732, 28743, 28732, 28743, 3847, 28743, 28731, 28743, 28731, 28743, 28732, 28743, 3847, 28743, 28731, 28743, 28723, 4020, 28717, 28740, 22827, 28732, 4020, 28731, 28717, 28740, 28723, 28743, 28717, 28740, 588, 28717, 28750, 28717, 28732, 28717, 9472, 28750, 28743, 28750, 4020, 28743, 1998, 28750, 28731, 28717, 28740, 28760, 28732, 28762, 28731, 28762, 28723, 1199, 28717, 28740, 588, 28717, 28750, 28711, 22827, 28750, 28717, 28740, 28723, 28762, 20011, 17552, 28806, 1592, 28792, 28762, 28769, 28733, 28793, 4060, 28743, 28717, 28740, 588, 28717, 28750, 28717, 28732, 28717, 9472, 28750, 28743, 28750, 4020, 28743, 1998, 28750, 28731, 28717, 28740, 28733, 28717, 28740, 588, 28717, 28750, 28711, 22827, 28750, 28717, 28740]\n",
      "\n",
      "Decoded SMILES: CC#N.CC(=O)O~CC(=O)O~[Pd].CC(C)(C)P(C(C)(C)C)C(C)(C)C.CCc1cccc(CC)c1.Cc1ccc2c(cnn2C2CCCCO2)c1B(O)O.Clc1ccc2ncccc2c1.O.[Na+].[OH-]>>Cc1ccc2c(cnn2C2CCCCO2)c1-c1ccc2ncccc2c1\n",
      "\n",
      "Encoding-Decoding accuracy of Mistral tokenizer for the reaction smiles is 100.0 %\n"
     ]
    }
   ],
   "source": [
    "# Tokenize a SMILES string\n",
    "import numpy as np\n",
    "count = 0 \n",
    "total = float(len(reactions_df['rxn'].to_list()))\n",
    "print(len(reactions_df['rxn'].to_list()))\n",
    "for smi in reactions_df['rxn'].to_list() :\n",
    "    tokenized_smiles = sp.encode(smi) #sp.encode(smi, out_type=str)\n",
    "    decoded_smiles = sp.decode(tokenized_smiles)\n",
    "    if count == 0:\n",
    "        print(\"\\nOriginal SMILES:\", smi)\n",
    "        print(tokenized_smiles)\n",
    "        print(\"\\nDecoded SMILES:\", decoded_smiles)\n",
    "    if smi == decoded_smiles :\n",
    "        count += 1 \n",
    "print(\"\\nEncoding-Decoding accuracy of Mistral tokenizer for the reaction smiles is {} %\".format(np.round((count/total)*100.,2)) )"
   ]
  }
 ],
 "metadata": {
  "kernelspec": {
   "display_name": "mistral_cl",
   "language": "python",
   "name": "python3"
  },
  "language_info": {
   "codemirror_mode": {
    "name": "ipython",
    "version": 3
   },
   "file_extension": ".py",
   "mimetype": "text/x-python",
   "name": "python",
   "nbconvert_exporter": "python",
   "pygments_lexer": "ipython3",
   "version": "3.10.14"
  }
 },
 "nbformat": 4,
 "nbformat_minor": 2
}
